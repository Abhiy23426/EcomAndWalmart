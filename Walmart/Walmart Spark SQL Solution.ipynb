{
 "cells": [
  {
   "cell_type": "code",
   "execution_count": 1,
   "id": "fcb7f410",
   "metadata": {},
   "outputs": [],
   "source": [
    "#Importing Spark Library\n",
    "import findspark\n",
    "findspark.init()"
   ]
  },
  {
   "cell_type": "code",
   "execution_count": 2,
   "id": "1e647872",
   "metadata": {},
   "outputs": [],
   "source": [
    "#Import DataFrame library\n",
    "from pyspark.sql import SparkSession"
   ]
  },
  {
   "cell_type": "code",
   "execution_count": 3,
   "id": "e234c805",
   "metadata": {},
   "outputs": [],
   "source": [
    "spark = SparkSession.builder \\\n",
    "        .appName(\"Walmart_SparkSQL_Analysis.com\") \\\n",
    "        .master(\"local[1]\") \\\n",
    "        .config('spark.jars' , 'mysql-connector-j-8.0.32.jar') \\\n",
    "        .getOrCreate()"
   ]
  },
  {
   "cell_type": "code",
   "execution_count": 4,
   "id": "5143cfde",
   "metadata": {},
   "outputs": [],
   "source": [
    "#Creating pipeline to read data from Source[MySQL]\n",
    "walmart_stock = spark.read.format(\"jdbc\") \\\n",
    "                    .option(\"driver\", \"com.mysql.cj.jdbc.Driver\") \\\n",
    "                    .option(\"url\", \"jdbc:mysql://localhost:3306/walmart\") \\\n",
    "                    .option(\"dbtable\",\"walmart_stock\") \\\n",
    "                    .option(\"user\",\"root\") \\\n",
    "                    .option(\"password\",\"Kaviya@2106\") \\\n",
    "                    .load()"
   ]
  },
  {
   "cell_type": "code",
   "execution_count": 5,
   "id": "f53aa7c7",
   "metadata": {
    "scrolled": true
   },
   "outputs": [
    {
     "name": "stdout",
     "output_type": "stream",
     "text": [
      "+-------------------+-----+-----+-----+-----+--------+------------------+\n",
      "|               date| open| high|close|  low|  volume|         adj_close|\n",
      "+-------------------+-----+-----+-----+-----+--------+------------------+\n",
      "|2012-01-03 00:00:00|59.97|61.06|59.87|60.33|12668800|52.619234999999996|\n",
      "|2012-01-04 00:00:00|60.21|60.35|59.47|59.71| 9593300|         52.078475|\n",
      "|2012-01-05 00:00:00|59.35|59.62|58.37|59.42|12768200|         51.825539|\n",
      "|2012-01-06 00:00:00|59.42|59.45|58.87| 59.0| 8069400|          51.45922|\n",
      "|2012-01-09 00:00:00|59.03|59.55|58.92|59.18| 6679300|51.616215000000004|\n",
      "|2012-01-10 00:00:00|59.43|59.71|58.98|59.04| 6907300|         51.494109|\n",
      "|2012-01-11 00:00:00|59.06|59.53|59.04| 59.4| 6365600|         51.808098|\n",
      "|2012-01-12 00:00:00|59.79| 60.0| 59.4| 59.5| 7236400|51.895315999999994|\n",
      "|2012-01-13 00:00:00|59.18|59.61|59.01|59.54| 7729300|51.930203999999996|\n",
      "|2012-01-17 00:00:00|59.87|60.11|59.52|59.85| 8500000|         52.200581|\n",
      "|2012-01-18 00:00:00|59.79|60.03|59.65|60.01| 5911400|         52.340131|\n",
      "|2012-01-19 00:00:00|59.93|60.73|59.75|60.61| 9234600|         52.863447|\n",
      "|2012-01-20 00:00:00|60.75|61.25|60.67|61.01|10378800|53.212320999999996|\n",
      "|2012-01-23 00:00:00|60.81|60.98|60.51|60.91| 7134100|         53.125104|\n",
      "|2012-01-24 00:00:00|60.75| 62.0|60.75|61.39| 7362800| 53.54375400000001|\n",
      "|2012-01-25 00:00:00|61.18|61.61|61.04|61.47| 5915800| 53.61353100000001|\n",
      "|2012-01-26 00:00:00| 61.8|61.84|60.77|60.97| 7436200|         53.177436|\n",
      "|2012-01-27 00:00:00|60.86|61.12|60.54|60.71| 6287300|         52.950665|\n",
      "|2012-01-30 00:00:00|60.47|61.32|60.35| 61.3| 7636900|53.465256999999994|\n",
      "|2012-01-31 00:00:00|61.53|61.57|60.58|61.36| 9761500|53.517590000000006|\n",
      "+-------------------+-----+-----+-----+-----+--------+------------------+\n",
      "only showing top 20 rows\n",
      "\n"
     ]
    }
   ],
   "source": [
    "#View the content of the dataset\n",
    "walmart_stock.show()"
   ]
  },
  {
   "cell_type": "code",
   "execution_count": 6,
   "id": "af9cd424",
   "metadata": {},
   "outputs": [
    {
     "name": "stdout",
     "output_type": "stream",
     "text": [
      "root\n",
      " |-- date: timestamp (nullable = true)\n",
      " |-- open: double (nullable = true)\n",
      " |-- high: double (nullable = true)\n",
      " |-- close: double (nullable = true)\n",
      " |-- low: double (nullable = true)\n",
      " |-- volume: long (nullable = true)\n",
      " |-- adj_close: double (nullable = true)\n",
      "\n"
     ]
    }
   ],
   "source": [
    "#Describe the dataframe\n",
    "walmart_stock.printSchema()"
   ]
  },
  {
   "cell_type": "code",
   "execution_count": 7,
   "id": "983bc2ac",
   "metadata": {},
   "outputs": [],
   "source": [
    "#SparkSQL analysis\n",
    "walmart_stock.createOrReplaceTempView(\"walmart\")"
   ]
  },
  {
   "cell_type": "markdown",
   "id": "b84fb655",
   "metadata": {},
   "source": [
    "## 1. Create a new dataframe with a column called VH Ratio that is the ratio of the volume versus High Price of stock traded for a day."
   ]
  },
  {
   "cell_type": "code",
   "execution_count": 8,
   "id": "20d319ae",
   "metadata": {},
   "outputs": [
    {
     "data": {
      "text/plain": [
       "207481.1660661644"
      ]
     },
     "execution_count": 8,
     "metadata": {},
     "output_type": "execute_result"
    }
   ],
   "source": [
    "#Volume/High\n",
    "12668800/61.06"
   ]
  },
  {
   "cell_type": "code",
   "execution_count": 9,
   "id": "29701fb8",
   "metadata": {},
   "outputs": [
    {
     "name": "stdout",
     "output_type": "stream",
     "text": [
      "+-------------------+---------+\n",
      "|               date| VH_ratio|\n",
      "+-------------------+---------+\n",
      "|2012-01-03 00:00:00|207481.17|\n",
      "|2012-01-04 00:00:00|158961.06|\n",
      "|2012-01-05 00:00:00|214159.68|\n",
      "|2012-01-06 00:00:00|135734.23|\n",
      "|2012-01-09 00:00:00|112162.89|\n",
      "|2012-01-10 00:00:00|115680.79|\n",
      "|2012-01-11 00:00:00|106930.96|\n",
      "|2012-01-12 00:00:00|120606.67|\n",
      "|2012-01-13 00:00:00|129664.49|\n",
      "|2012-01-17 00:00:00|141407.42|\n",
      "|2012-01-18 00:00:00|  98474.1|\n",
      "|2012-01-19 00:00:00|152059.94|\n",
      "|2012-01-20 00:00:00| 169449.8|\n",
      "|2012-01-23 00:00:00|116990.82|\n",
      "|2012-01-24 00:00:00|118754.84|\n",
      "|2012-01-25 00:00:00| 96020.13|\n",
      "|2012-01-26 00:00:00|120249.03|\n",
      "|2012-01-27 00:00:00|102868.13|\n",
      "|2012-01-30 00:00:00|124541.75|\n",
      "|2012-01-31 00:00:00|158543.12|\n",
      "+-------------------+---------+\n",
      "only showing top 20 rows\n",
      "\n"
     ]
    }
   ],
   "source": [
    "spark.sql(\"SELECT date,ROUND((volume/high),2)AS VH_ratio FROM walmart\").show()"
   ]
  },
  {
   "cell_type": "code",
   "execution_count": 10,
   "id": "aa1f96aa",
   "metadata": {},
   "outputs": [],
   "source": [
    "VH_ratio = spark.sql(\"SELECT date,ROUND((volume/high),2)AS VH_ratio FROM walmart\")"
   ]
  },
  {
   "cell_type": "markdown",
   "id": "7fe0776e",
   "metadata": {},
   "source": [
    "## 2. What day had the Peak High in Price?"
   ]
  },
  {
   "cell_type": "code",
   "execution_count": 11,
   "id": "9be403f9",
   "metadata": {},
   "outputs": [
    {
     "name": "stdout",
     "output_type": "stream",
     "text": [
      "+-------------------+-----+\n",
      "|               date| high|\n",
      "+-------------------+-----+\n",
      "|2015-01-13 00:00:00|90.97|\n",
      "|2015-01-08 00:00:00|90.67|\n",
      "|2015-01-09 00:00:00|90.39|\n",
      "|2015-01-12 00:00:00|90.31|\n",
      "|2015-01-23 00:00:00|89.26|\n",
      "|2015-01-26 00:00:00|89.16|\n",
      "|2015-01-07 00:00:00|88.68|\n",
      "|2015-01-14 00:00:00|88.52|\n",
      "|2015-01-27 00:00:00|88.46|\n",
      "|2015-01-22 00:00:00| 88.4|\n",
      "+-------------------+-----+\n",
      "\n"
     ]
    }
   ],
   "source": [
    "spark.sql(\"SELECT date,high FROM walmart ORDER BY high DESC LIMIT 10\").show()"
   ]
  },
  {
   "cell_type": "code",
   "execution_count": 12,
   "id": "bd45992b",
   "metadata": {},
   "outputs": [],
   "source": [
    "peak_high_price = spark.sql(\"SELECT date,high FROM walmart ORDER BY high DESC LIMIT 10\")"
   ]
  },
  {
   "cell_type": "markdown",
   "id": "cb87616a",
   "metadata": {},
   "source": [
    "## 3. What is the max and min of the Volume column?"
   ]
  },
  {
   "cell_type": "code",
   "execution_count": 13,
   "id": "cc988f03",
   "metadata": {},
   "outputs": [
    {
     "name": "stdout",
     "output_type": "stream",
     "text": [
      "+----------+----------+\n",
      "|max_volume|min_volume|\n",
      "+----------+----------+\n",
      "|  80898100|   2094900|\n",
      "+----------+----------+\n",
      "\n"
     ]
    }
   ],
   "source": [
    "spark.sql(\"SELECT MAX(volume)AS max_volume,MIN(volume)AS min_volume FROM walmart\").show()"
   ]
  },
  {
   "cell_type": "code",
   "execution_count": 14,
   "id": "079e2dd9",
   "metadata": {},
   "outputs": [],
   "source": [
    "max_min_vol = spark.sql(\"SELECT MAX(volume)AS max_volume,MIN(volume)AS min_volume FROM walmart\")"
   ]
  },
  {
   "cell_type": "markdown",
   "id": "2240cb9c",
   "metadata": {},
   "source": [
    "## 4. How many days was the Close lower than 60 dollars?"
   ]
  },
  {
   "cell_type": "code",
   "execution_count": 15,
   "id": "d5e233a8",
   "metadata": {},
   "outputs": [
    {
     "name": "stdout",
     "output_type": "stream",
     "text": [
      "+-------------------+-----+\n",
      "|               date|close|\n",
      "+-------------------+-----+\n",
      "|2012-01-03 00:00:00|59.87|\n",
      "|2012-01-04 00:00:00|59.47|\n",
      "|2012-01-05 00:00:00|58.37|\n",
      "|2012-01-06 00:00:00|58.87|\n",
      "|2012-01-09 00:00:00|58.92|\n",
      "|2012-01-10 00:00:00|58.98|\n",
      "|2012-01-11 00:00:00|59.04|\n",
      "|2012-01-12 00:00:00| 59.4|\n",
      "|2012-01-13 00:00:00|59.01|\n",
      "|2012-01-17 00:00:00|59.52|\n",
      "|2012-01-18 00:00:00|59.65|\n",
      "|2012-01-19 00:00:00|59.75|\n",
      "|2012-02-21 00:00:00|59.67|\n",
      "|2012-02-22 00:00:00|58.37|\n",
      "|2012-02-23 00:00:00|58.21|\n",
      "|2012-02-24 00:00:00| 58.5|\n",
      "|2012-02-27 00:00:00|58.29|\n",
      "|2012-02-28 00:00:00|58.35|\n",
      "|2012-02-29 00:00:00|58.72|\n",
      "|2012-03-01 00:00:00|58.64|\n",
      "+-------------------+-----+\n",
      "only showing top 20 rows\n",
      "\n"
     ]
    }
   ],
   "source": [
    "spark.sql(\"SELECT date,close FROM walmart WHERE close < 60\").show()"
   ]
  },
  {
   "cell_type": "code",
   "execution_count": 16,
   "id": "4c27dab6",
   "metadata": {},
   "outputs": [],
   "source": [
    "min60_close_days = spark.sql(\"SELECT date,close FROM walmart WHERE close < 60\")"
   ]
  },
  {
   "cell_type": "markdown",
   "id": "62f48279",
   "metadata": {},
   "source": [
    "## 5. What percentage of the time was the High greater than 80 dollars ?\n",
    "## In other words, (Number of Days High>80)/(Total Days in the dataset)\n"
   ]
  },
  {
   "cell_type": "code",
   "execution_count": 17,
   "id": "3c0ca626",
   "metadata": {
    "scrolled": true
   },
   "outputs": [
    {
     "name": "stdout",
     "output_type": "stream",
     "text": [
      "+----------+\n",
      "|percentage|\n",
      "+----------+\n",
      "|       115|\n",
      "+----------+\n",
      "\n"
     ]
    }
   ],
   "source": [
    "spark.sql(\"SELECT COUNT(date) AS percentage FROM walmart WHERE high > 80\").show()"
   ]
  },
  {
   "cell_type": "code",
   "execution_count": 18,
   "id": "a2e24378",
   "metadata": {},
   "outputs": [],
   "source": [
    "no_of_days = spark.sql(\"SELECT COUNT(date)AS no_of_days FROM walmart WHERE high > 80\")"
   ]
  },
  {
   "cell_type": "code",
   "execution_count": 19,
   "id": "9108905f",
   "metadata": {
    "scrolled": true
   },
   "outputs": [
    {
     "name": "stdout",
     "output_type": "stream",
     "text": [
      "+--------+\n",
      "|tot_days|\n",
      "+--------+\n",
      "|    1258|\n",
      "+--------+\n",
      "\n"
     ]
    }
   ],
   "source": [
    "spark.sql(\"SELECT COUNT(*)AS tot_days FROM walmart\").show()"
   ]
  },
  {
   "cell_type": "code",
   "execution_count": 20,
   "id": "9b272c32",
   "metadata": {},
   "outputs": [],
   "source": [
    "tot_days = spark.sql(\"SELECT COUNT(*)AS tot_days FROM walmart\")"
   ]
  },
  {
   "cell_type": "code",
   "execution_count": 21,
   "id": "aa1f787d",
   "metadata": {},
   "outputs": [
    {
     "data": {
      "text/plain": [
       "9.141494435612083"
      ]
     },
     "execution_count": 21,
     "metadata": {},
     "output_type": "execute_result"
    }
   ],
   "source": [
    "115/1258 * 100"
   ]
  },
  {
   "cell_type": "code",
   "execution_count": 22,
   "id": "950854f3",
   "metadata": {
    "scrolled": true
   },
   "outputs": [
    {
     "name": "stdout",
     "output_type": "stream",
     "text": [
      "+----------+\n",
      "|percentage|\n",
      "+----------+\n",
      "|     9.141|\n",
      "+----------+\n",
      "\n"
     ]
    }
   ],
   "source": [
    "#Method - 1\n",
    "spark.sql(\"SELECT ROUND(((SELECT COUNT(date) FROM walmart WHERE high > 80)/(SELECT COUNT(*) FROM walmart))*100,3) AS percentage FROM walmart LIMIT 1\").show()"
   ]
  },
  {
   "cell_type": "code",
   "execution_count": 23,
   "id": "70eb8f3c",
   "metadata": {},
   "outputs": [
    {
     "name": "stdout",
     "output_type": "stream",
     "text": [
      "+-----------------+\n",
      "|       percentage|\n",
      "+-----------------+\n",
      "|9.141494435612083|\n",
      "+-----------------+\n",
      "\n"
     ]
    }
   ],
   "source": [
    "#Method - 2\n",
    "spark.sql(\"SELECT (sum(if(high>80,1,0)) / count(*)) * 100 AS percentage FROM walmart\").show()"
   ]
  },
  {
   "cell_type": "code",
   "execution_count": 24,
   "id": "8f5f3b47",
   "metadata": {},
   "outputs": [],
   "source": [
    "percentage = spark.sql(\"SELECT (sum(if(high>80,1,0)) / count(*)) * 100 AS percentage FROM walmart\")"
   ]
  },
  {
   "cell_type": "markdown",
   "id": "0349ca61",
   "metadata": {},
   "source": [
    "## 6. What is the Pearson correlation between High and Volume?"
   ]
  },
  {
   "cell_type": "code",
   "execution_count": 25,
   "id": "122f06a1",
   "metadata": {},
   "outputs": [
    {
     "name": "stdout",
     "output_type": "stream",
     "text": [
      "+--------------------+\n",
      "| pearson_correlation|\n",
      "+--------------------+\n",
      "|-0.33843260582148915|\n",
      "+--------------------+\n",
      "\n"
     ]
    }
   ],
   "source": [
    "from pyspark.sql.functions import corr\n",
    "spark.sql(\"SELECT corr(high, volume) AS pearson_correlation FROM walmart\").show()"
   ]
  },
  {
   "cell_type": "code",
   "execution_count": 26,
   "id": "d63e3685",
   "metadata": {},
   "outputs": [],
   "source": [
    "pearson_correlation = spark.sql(\"SELECT corr(high, volume) AS pearson_correlation FROM walmart\")"
   ]
  },
  {
   "cell_type": "markdown",
   "id": "0c86ba8c",
   "metadata": {},
   "source": [
    "## 7. What is the max High per year?"
   ]
  },
  {
   "cell_type": "code",
   "execution_count": 27,
   "id": "4bd44892",
   "metadata": {},
   "outputs": [
    {
     "name": "stdout",
     "output_type": "stream",
     "text": [
      "+----+--------+\n",
      "|year|max_high|\n",
      "+----+--------+\n",
      "|2012|    77.6|\n",
      "|2013|   81.37|\n",
      "|2014|   88.09|\n",
      "|2015|   90.97|\n",
      "|2016|   75.19|\n",
      "+----+--------+\n",
      "\n"
     ]
    }
   ],
   "source": [
    "spark.sql(\"SELECT YEAR(date)AS year, MAX(high)AS max_high FROM walmart GROUP BY year ORDER BY year\").show()"
   ]
  },
  {
   "cell_type": "code",
   "execution_count": 28,
   "id": "37e3118a",
   "metadata": {},
   "outputs": [],
   "source": [
    "year_maxhigh = spark.sql(\"SELECT YEAR(date)AS year, MAX(high)AS max_high FROM walmart GROUP BY year ORDER BY year\")"
   ]
  },
  {
   "cell_type": "markdown",
   "id": "751399de",
   "metadata": {},
   "source": [
    "## 8. What is the average Close for each Calendar Month?"
   ]
  },
  {
   "cell_type": "code",
   "execution_count": 29,
   "id": "951bac6a",
   "metadata": {},
   "outputs": [
    {
     "name": "stdout",
     "output_type": "stream",
     "text": [
      "+-----+---------+\n",
      "|month|avg_close|\n",
      "+-----+---------+\n",
      "|    1|   70.904|\n",
      "|    2|   70.694|\n",
      "|    3|   71.319|\n",
      "|    4|   72.521|\n",
      "|    5|   71.853|\n",
      "|    6|   72.122|\n",
      "|    7|   74.005|\n",
      "|    8|   72.595|\n",
      "|    9|   71.763|\n",
      "|   10|    71.08|\n",
      "|   11|   71.546|\n",
      "|   12|   72.445|\n",
      "+-----+---------+\n",
      "\n"
     ]
    }
   ],
   "source": [
    "spark.sql(\"SELECT MONTH(date)AS month,ROUND(AVG(close),3)AS avg_close FROM walmart GROUP BY month ORDER BY month\" ).show()"
   ]
  },
  {
   "cell_type": "code",
   "execution_count": 30,
   "id": "29236489",
   "metadata": {},
   "outputs": [],
   "source": [
    "month_avgclose = spark.sql(\"SELECT MONTH(date)AS month,AVG(close)AS avg_close FROM walmart GROUP BY month ORDER BY month\")"
   ]
  },
  {
   "cell_type": "code",
   "execution_count": 31,
   "id": "6c5fa41a",
   "metadata": {},
   "outputs": [],
   "source": [
    "#Importing data to client[MySQL]"
   ]
  },
  {
   "cell_type": "code",
   "execution_count": 32,
   "id": "66ae2802",
   "metadata": {},
   "outputs": [],
   "source": [
    "VH_ratio.write.format(\"jdbc\") \\\n",
    "                    .option(\"driver\", \"com.mysql.cj.jdbc.Driver\") \\\n",
    "                    .option(\"url\", \"jdbc:mysql://localhost:3306/walmart\") \\\n",
    "                    .option(\"dbtable\",\"res1\") \\\n",
    "                    .option(\"user\", \"root\").option(\"password\", \"cloudera\") \\\n",
    "                    .save()"
   ]
  },
  {
   "cell_type": "code",
   "execution_count": 33,
   "id": "cf170d06",
   "metadata": {},
   "outputs": [],
   "source": [
    "peak_high_price.write.format(\"jdbc\") \\\n",
    "                    .option(\"driver\", \"com.mysql.cj.jdbc.Driver\") \\\n",
    "                    .option(\"url\", \"jdbc:mysql://localhost:3306/walmart\") \\\n",
    "                    .option(\"dbtable\",\"res2\") \\\n",
    "                    .option(\"user\", \"root\").option(\"password\", \"cloudera\") \\\n",
    "                    .save()"
   ]
  },
  {
   "cell_type": "code",
   "execution_count": 34,
   "id": "bb32152b",
   "metadata": {},
   "outputs": [],
   "source": [
    "max_min_vol.write.format(\"jdbc\") \\\n",
    "                    .option(\"driver\", \"com.mysql.cj.jdbc.Driver\") \\\n",
    "                    .option(\"url\", \"jdbc:mysql://localhost:3306/walmart\") \\\n",
    "                    .option(\"dbtable\",\"res3\") \\\n",
    "                    .option(\"user\", \"root\").option(\"password\", \"cloudera\") \\\n",
    "                    .save()"
   ]
  },
  {
   "cell_type": "code",
   "execution_count": 35,
   "id": "f46e8465",
   "metadata": {},
   "outputs": [],
   "source": [
    "min60_close_days.write.format(\"jdbc\") \\\n",
    "                    .option(\"driver\", \"com.mysql.cj.jdbc.Driver\") \\\n",
    "                    .option(\"url\", \"jdbc:mysql://localhost:3306/walmart\") \\\n",
    "                    .option(\"dbtable\",\"res4\") \\\n",
    "                    .option(\"user\", \"root\").option(\"password\", \"cloudera\") \\\n",
    "                    .save()"
   ]
  },
  {
   "cell_type": "code",
   "execution_count": 36,
   "id": "6684e158",
   "metadata": {},
   "outputs": [],
   "source": [
    "res5 = percentage.write.format(\"jdbc\") \\\n",
    "                    .option(\"driver\", \"com.mysql.cj.jdbc.Driver\") \\\n",
    "                    .option(\"url\", \"jdbc:mysql://localhost:3306/walmart\") \\\n",
    "                    .option(\"dbtable\",\"res5\") \\\n",
    "                    .option(\"user\", \"root\").option(\"password\", \"cloudera\") \\\n",
    "                    .save()"
   ]
  },
  {
   "cell_type": "code",
   "execution_count": 38,
   "id": "bd4babae",
   "metadata": {},
   "outputs": [],
   "source": [
    "pearson_correlation.write.format(\"jdbc\") \\\n",
    "                    .option(\"driver\", \"com.mysql.cj.jdbc.Driver\") \\\n",
    "                    .option(\"url\", \"jdbc:mysql://localhost:3306/walmart\") \\\n",
    "                    .option(\"dbtable\",\"res6\") \\\n",
    "                    .option(\"user\", \"root\").option(\"password\", \"cloudera\") \\"
   ]
  },
  {
   "cell_type": "code",
   "execution_count": 39,
   "id": "f0c82fe8",
   "metadata": {},
   "outputs": [],
   "source": [
    " year_maxhigh.write.format(\"jdbc\") \\\n",
    "                    .option(\"driver\", \"com.mysql.cj.jdbc.Driver\") \\\n",
    "                    .option(\"url\", \"jdbc:mysql://localhost:3306/walmart\") \\\n",
    "                    .option(\"dbtable\",\"res7\") \\\n",
    "                    .option(\"user\",\"root\") \\\n",
    "                    .option(\"password\",\"Kaviya@2106\") \\\n",
    "                    .save()"
   ]
  },
  {
   "cell_type": "code",
   "execution_count": 40,
   "id": "094f11a3",
   "metadata": {},
   "outputs": [],
   "source": [
    "month_avgclose.write.format(\"jdbc\") \\\n",
    "                    .option(\"driver\", \"com.mysql.cj.jdbc.Driver\") \\\n",
    "                    .option(\"url\", \"jdbc:mysql://localhost:3306/walmart\") \\\n",
    "                    .option(\"dbtable\",\"res8\") \\\n",
    "                    .option(\"user\",\"root\") \\\n",
    "                    .option(\"password\",\"Kaviya@2106\") \\\n",
    "                    .save()"
   ]
  },
  {
   "cell_type": "code",
   "execution_count": null,
   "id": "87a0dc2c",
   "metadata": {},
   "outputs": [],
   "source": []
  }
 ],
 "metadata": {
  "kernelspec": {
   "display_name": "Python 3 (ipykernel)",
   "language": "python",
   "name": "python3"
  },
  "language_info": {
   "codemirror_mode": {
    "name": "ipython",
    "version": 3
   },
   "file_extension": ".py",
   "mimetype": "text/x-python",
   "name": "python",
   "nbconvert_exporter": "python",
   "pygments_lexer": "ipython3",
   "version": "3.10.7"
  }
 },
 "nbformat": 4,
 "nbformat_minor": 5
}
