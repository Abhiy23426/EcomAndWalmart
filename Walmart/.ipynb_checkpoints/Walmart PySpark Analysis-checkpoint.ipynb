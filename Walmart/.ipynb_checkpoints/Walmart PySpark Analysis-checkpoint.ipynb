{
 "cells": [
  {
   "cell_type": "code",
   "execution_count": 1,
   "id": "f5b2e3ea",
   "metadata": {},
   "outputs": [],
   "source": [
    "import findspark \n",
    "findspark.init()"
   ]
  },
  {
   "cell_type": "code",
   "execution_count": 2,
   "id": "df9e61c8",
   "metadata": {},
   "outputs": [],
   "source": [
    "from pyspark.sql import SparkSession"
   ]
  },
  {
   "cell_type": "code",
   "execution_count": 3,
   "id": "21abd2ce",
   "metadata": {},
   "outputs": [],
   "source": [
    "spark = SparkSession.builder.appName(\"Walmart Analysis1\").getOrCreate()"
   ]
  },
  {
   "cell_type": "code",
   "execution_count": 9,
   "id": "4edf021a",
   "metadata": {},
   "outputs": [],
   "source": [
    "sc = spark.sparkContext"
   ]
  },
  {
   "cell_type": "code",
   "execution_count": 20,
   "id": "8bd5e2b8",
   "metadata": {},
   "outputs": [],
   "source": [
    "stock_rdd = sc.textFile(\"walmart_stock.csv\")"
   ]
  },
  {
   "cell_type": "code",
   "execution_count": 21,
   "id": "682ca2ac",
   "metadata": {},
   "outputs": [],
   "source": [
    "header = stock_rdd.first()"
   ]
  },
  {
   "cell_type": "code",
   "execution_count": 23,
   "id": "ebbc8365",
   "metadata": {},
   "outputs": [],
   "source": [
    "stocks = stock_rdd.filter(lambda line: line!=header)"
   ]
  },
  {
   "cell_type": "code",
   "execution_count": 26,
   "id": "a6e9b45f",
   "metadata": {},
   "outputs": [
    {
     "data": {
      "text/plain": [
       "['2012-01-03,59.970001,61.060001,59.869999,60.330002,12668800,52.619234999999996',\n",
       " '2012-01-04,60.209998999999996,60.349998,59.470001,59.709998999999996,9593300,52.078475',\n",
       " '2012-01-05,59.349998,59.619999,58.369999,59.419998,12768200,51.825539',\n",
       " '2012-01-06,59.419998,59.450001,58.869999,59.0,8069400,51.45922',\n",
       " '2012-01-09,59.029999,59.549999,58.919998,59.18,6679300,51.616215000000004']"
      ]
     },
     "execution_count": 26,
     "metadata": {},
     "output_type": "execute_result"
    }
   ],
   "source": [
    "stocks.take(5)"
   ]
  },
  {
   "cell_type": "markdown",
   "id": "0f2ea965",
   "metadata": {},
   "source": [
    "### Q1. Create a new dataframe with a column called HV Ratio that is the ratio of the High Price versus volume of stock traded for a day."
   ]
  },
  {
   "cell_type": "code",
   "execution_count": 27,
   "id": "16386ff3",
   "metadata": {},
   "outputs": [],
   "source": [
    "stocks_split = stocks.map(lambda x : x.split(','))"
   ]
  },
  {
   "cell_type": "code",
   "execution_count": 28,
   "id": "f7f89163",
   "metadata": {},
   "outputs": [
    {
     "data": {
      "text/plain": [
       "[['2012-01-03',\n",
       "  '59.970001',\n",
       "  '61.060001',\n",
       "  '59.869999',\n",
       "  '60.330002',\n",
       "  '12668800',\n",
       "  '52.619234999999996'],\n",
       " ['2012-01-04',\n",
       "  '60.209998999999996',\n",
       "  '60.349998',\n",
       "  '59.470001',\n",
       "  '59.709998999999996',\n",
       "  '9593300',\n",
       "  '52.078475'],\n",
       " ['2012-01-05',\n",
       "  '59.349998',\n",
       "  '59.619999',\n",
       "  '58.369999',\n",
       "  '59.419998',\n",
       "  '12768200',\n",
       "  '51.825539']]"
      ]
     },
     "execution_count": 28,
     "metadata": {},
     "output_type": "execute_result"
    }
   ],
   "source": [
    "stocks_split.take(3)"
   ]
  },
  {
   "cell_type": "code",
   "execution_count": 71,
   "id": "98e32842",
   "metadata": {},
   "outputs": [],
   "source": [
    "hv_ratio = stocks_split.map(lambda x : (x[0],round(int(x[5])/float(x[2]),2)))"
   ]
  },
  {
   "cell_type": "code",
   "execution_count": 73,
   "id": "8db14e85",
   "metadata": {},
   "outputs": [
    {
     "data": {
      "text/plain": [
       "[('2012-01-03', 207481.16),\n",
       " ('2012-01-04', 158961.07),\n",
       " ('2012-01-05', 214159.68),\n",
       " ('2012-01-06', 135734.23),\n",
       " ('2012-01-09', 112162.89)]"
      ]
     },
     "execution_count": 73,
     "metadata": {},
     "output_type": "execute_result"
    }
   ],
   "source": [
    "hv_ratio.take(5)"
   ]
  },
  {
   "cell_type": "markdown",
   "id": "843d6732",
   "metadata": {},
   "source": [
    "### Which 10 day had the Peak High in Price?"
   ]
  },
  {
   "cell_type": "code",
   "execution_count": 78,
   "id": "5dab308f",
   "metadata": {},
   "outputs": [],
   "source": [
    "stock_high = stocks_split.map(lambda x:(x[0], round(float(x[2]),2)))"
   ]
  },
  {
   "cell_type": "code",
   "execution_count": 79,
   "id": "ab5a2932",
   "metadata": {},
   "outputs": [
    {
     "data": {
      "text/plain": [
       "[('2012-01-03', 61.06),\n",
       " ('2012-01-04', 60.35),\n",
       " ('2012-01-05', 59.62),\n",
       " ('2012-01-06', 59.45),\n",
       " ('2012-01-09', 59.55)]"
      ]
     },
     "execution_count": 79,
     "metadata": {},
     "output_type": "execute_result"
    }
   ],
   "source": [
    "stock_high.take(5)"
   ]
  },
  {
   "cell_type": "code",
   "execution_count": 82,
   "id": "a2e80666",
   "metadata": {},
   "outputs": [],
   "source": [
    "top_10_day = stock_high.sortBy((lambda x:x[1]),False)"
   ]
  },
  {
   "cell_type": "code",
   "execution_count": 138,
   "id": "3eadd734",
   "metadata": {},
   "outputs": [],
   "source": [
    "top_10 = sc.parallelize(top_10_day.take(10))"
   ]
  },
  {
   "cell_type": "code",
   "execution_count": 140,
   "id": "6887614f",
   "metadata": {},
   "outputs": [
    {
     "data": {
      "text/plain": [
       "[('2015-01-13', 90.97),\n",
       " ('2015-01-08', 90.67),\n",
       " ('2015-01-09', 90.39),\n",
       " ('2015-01-12', 90.31),\n",
       " ('2015-01-23', 89.26),\n",
       " ('2015-01-26', 89.16),\n",
       " ('2015-01-07', 88.68),\n",
       " ('2015-01-14', 88.52),\n",
       " ('2015-01-27', 88.46),\n",
       " ('2015-01-22', 88.4)]"
      ]
     },
     "execution_count": 140,
     "metadata": {},
     "output_type": "execute_result"
    }
   ],
   "source": []
  },
  {
   "cell_type": "code",
   "execution_count": null,
   "id": "31c45337",
   "metadata": {},
   "outputs": [],
   "source": []
  },
  {
   "cell_type": "markdown",
   "id": "21605122",
   "metadata": {},
   "source": [
    "### Q3.What is the max and min of the Volume column?"
   ]
  },
  {
   "cell_type": "code",
   "execution_count": 143,
   "id": "30ebb469",
   "metadata": {},
   "outputs": [],
   "source": [
    "volume_col = stocks_split.map(lambda x: int(x[5]))"
   ]
  },
  {
   "cell_type": "code",
   "execution_count": 132,
   "id": "e6c675c7",
   "metadata": {
    "scrolled": true
   },
   "outputs": [],
   "source": [
    "volume = (volume_col.max(), volume_col.min())"
   ]
  },
  {
   "cell_type": "code",
   "execution_count": 135,
   "id": "5f1515fb",
   "metadata": {},
   "outputs": [
    {
     "data": {
      "text/plain": [
       "(80898100, 2094900)"
      ]
     },
     "execution_count": 135,
     "metadata": {},
     "output_type": "execute_result"
    }
   ],
   "source": [
    " volume"
   ]
  },
  {
   "cell_type": "code",
   "execution_count": null,
   "id": "85feb973",
   "metadata": {},
   "outputs": [],
   "source": []
  },
  {
   "cell_type": "markdown",
   "id": "f1da8aa5",
   "metadata": {},
   "source": [
    "###  Q4. How many days was the Close lower than 60 dollars?\n"
   ]
  },
  {
   "cell_type": "code",
   "execution_count": 162,
   "id": "d13f2c42",
   "metadata": {},
   "outputs": [],
   "source": [
    "day_count = stocks_split.map(lambda x: (x[0],float(x[4])) if (float(x[4]) < 60) else (x[0],0) )"
   ]
  },
  {
   "cell_type": "code",
   "execution_count": 163,
   "id": "d05da445",
   "metadata": {},
   "outputs": [
    {
     "data": {
      "text/plain": [
       "[('2012-01-03', 0),\n",
       " ('2012-01-04', 59.709998999999996),\n",
       " ('2012-01-05', 59.419998),\n",
       " ('2012-01-06', 59.0),\n",
       " ('2012-01-09', 59.18)]"
      ]
     },
     "execution_count": 163,
     "metadata": {},
     "output_type": "execute_result"
    }
   ],
   "source": [
    "day_count.take(5)"
   ]
  },
  {
   "cell_type": "code",
   "execution_count": 177,
   "id": "dd87c103",
   "metadata": {},
   "outputs": [
    {
     "data": {
      "text/plain": [
       "81"
      ]
     },
     "execution_count": 177,
     "metadata": {},
     "output_type": "execute_result"
    }
   ],
   "source": [
    "day_count.filter(lambda x: x[1]).count()"
   ]
  },
  {
   "cell_type": "markdown",
   "id": "fc4f3658",
   "metadata": {},
   "source": [
    "### Q5. What percentage of the time was the High greater than 80 dollars In other words, (Number of Days High>80)/(Total Days in the dataset)\n"
   ]
  },
  {
   "cell_type": "code",
   "execution_count": 174,
   "id": "25f2b683",
   "metadata": {},
   "outputs": [],
   "source": [
    "high_than_80 = stocks_split.map(lambda x: [x[0], int(float(x[2])>80)])"
   ]
  },
  {
   "cell_type": "code",
   "execution_count": 186,
   "id": "a583cf26",
   "metadata": {},
   "outputs": [],
   "source": [
    "dataset_count = high_than_80.count()"
   ]
  },
  {
   "cell_type": "code",
   "execution_count": 185,
   "id": "83f00b3f",
   "metadata": {},
   "outputs": [],
   "source": [
    "high_count = high_than_80.filter(lambda x: x[1]).count()"
   ]
  },
  {
   "cell_type": "code",
   "execution_count": 187,
   "id": "3eb486da",
   "metadata": {},
   "outputs": [],
   "source": [
    "percent_times = high_count/dataset_count *100"
   ]
  },
  {
   "cell_type": "code",
   "execution_count": 188,
   "id": "6c5cee46",
   "metadata": {},
   "outputs": [
    {
     "data": {
      "text/plain": [
       "9.141494435612083"
      ]
     },
     "execution_count": 188,
     "metadata": {},
     "output_type": "execute_result"
    }
   ],
   "source": [
    "percent_times"
   ]
  },
  {
   "cell_type": "markdown",
   "id": "b8844edb",
   "metadata": {},
   "source": [
    "### Q6. What is the Pearson correlation between High and Volume?"
   ]
  },
  {
   "cell_type": "code",
   "execution_count": 183,
   "id": "c4acf175",
   "metadata": {},
   "outputs": [
    {
     "name": "stdout",
     "output_type": "stream",
     "text": [
      "Pearson correlation coefficient:  -0.3384326061737161\n"
     ]
    }
   ],
   "source": [
    "from pyspark.sql import SparkSession\n",
    "from pyspark.sql.functions import corr\n",
    "\n",
    "\n",
    "stock_data = spark.read.csv(\"walmart_stock.csv\", header=True, inferSchema=True)\n",
    "\n",
    "# Calculate the Pearson correlation between 'High' and 'Volume'\n",
    "correlation = stock_data.select(corr(\"High\", \"Volume\")).collect()[0][0]\n",
    "\n",
    "# Print the correlati1on coefficient\n",
    "print(\"Pearson correlation coefficient: \", correlation)"
   ]
  },
  {
   "cell_type": "markdown",
   "id": "7a1d9670",
   "metadata": {},
   "source": [
    "### Q7. What is the max High per year?"
   ]
  },
  {
   "cell_type": "code",
   "execution_count": 202,
   "id": "5e8d3859",
   "metadata": {},
   "outputs": [],
   "source": [
    "year_count = stocks_split.map(lambda x: (x[0][0:4],round(float(x[4]),2)))"
   ]
  },
  {
   "cell_type": "code",
   "execution_count": 203,
   "id": "ecec863b",
   "metadata": {},
   "outputs": [
    {
     "data": {
      "text/plain": [
       "[('2012', 60.33),\n",
       " ('2012', 59.71),\n",
       " ('2012', 59.42),\n",
       " ('2012', 59.0),\n",
       " ('2012', 59.18)]"
      ]
     },
     "execution_count": 203,
     "metadata": {},
     "output_type": "execute_result"
    }
   ],
   "source": [
    "year_count.take(5)"
   ]
  },
  {
   "cell_type": "code",
   "execution_count": 210,
   "id": "3138a452",
   "metadata": {},
   "outputs": [],
   "source": [
    "max_high = year_count.reduceByKey(max)"
   ]
  },
  {
   "cell_type": "code",
   "execution_count": 211,
   "id": "f3d6be82",
   "metadata": {},
   "outputs": [
    {
     "data": {
      "text/plain": [
       "[('2012', 77.15),\n",
       " ('2013', 81.21),\n",
       " ('2014', 87.54),\n",
       " ('2015', 90.47),\n",
       " ('2016', 74.3)]"
      ]
     },
     "execution_count": 211,
     "metadata": {},
     "output_type": "execute_result"
    }
   ],
   "source": [
    "max_high.take(5)"
   ]
  },
  {
   "cell_type": "markdown",
   "id": "1e1932e7",
   "metadata": {},
   "source": [
    "### Q8. What is the average Close for each Calendar Month?"
   ]
  },
  {
   "cell_type": "code",
   "execution_count": 238,
   "id": "7d0189bc",
   "metadata": {},
   "outputs": [],
   "source": [
    "avg_d = stocks_split.map(lambda x: (int(x[0].split('-')[1]),round(float(x[2]),2))) "
   ]
  },
  {
   "cell_type": "code",
   "execution_count": 239,
   "id": "6a76bf44",
   "metadata": {},
   "outputs": [
    {
     "data": {
      "text/plain": [
       "[(1, 61.06), (1, 60.35), (1, 59.62), (1, 59.45), (1, 59.55)]"
      ]
     },
     "execution_count": 239,
     "metadata": {},
     "output_type": "execute_result"
    }
   ],
   "source": [
    "avg_d.take(5)"
   ]
  },
  {
   "cell_type": "code",
   "execution_count": 248,
   "id": "1ebfb145",
   "metadata": {},
   "outputs": [],
   "source": [
    "avg_group = avg_d.groupByKey()"
   ]
  },
  {
   "cell_type": "code",
   "execution_count": 249,
   "id": "e46b57b5",
   "metadata": {},
   "outputs": [],
   "source": [
    "avg_monthWise =avg_group.mapValues(lambda x: sum(x)/len(x))"
   ]
  },
  {
   "cell_type": "code",
   "execution_count": null,
   "id": "29110055",
   "metadata": {},
   "outputs": [],
   "source": []
  },
  {
   "cell_type": "code",
   "execution_count": null,
   "id": "72e1a786",
   "metadata": {},
   "outputs": [],
   "source": []
  },
  {
   "cell_type": "code",
   "execution_count": 250,
   "id": "b494fdba",
   "metadata": {},
   "outputs": [],
   "source": []
  },
  {
   "cell_type": "code",
   "execution_count": null,
   "id": "5c8b6351",
   "metadata": {},
   "outputs": [],
   "source": []
  }
 ],
 "metadata": {
  "kernelspec": {
   "display_name": "Python 3 (ipykernel)",
   "language": "python",
   "name": "python3"
  },
  "language_info": {
   "codemirror_mode": {
    "name": "ipython",
    "version": 3
   },
   "file_extension": ".py",
   "mimetype": "text/x-python",
   "name": "python",
   "nbconvert_exporter": "python",
   "pygments_lexer": "ipython3",
   "version": "3.10.7"
  }
 },
 "nbformat": 4,
 "nbformat_minor": 5
}
