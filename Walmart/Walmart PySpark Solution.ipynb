{
 "cells": [
  {
   "cell_type": "code",
   "execution_count": 1,
   "id": "24482617",
   "metadata": {},
   "outputs": [],
   "source": [
    "import findspark"
   ]
  },
  {
   "cell_type": "code",
   "execution_count": 2,
   "id": "b69bde12",
   "metadata": {},
   "outputs": [],
   "source": [
    "findspark.init()"
   ]
  },
  {
   "cell_type": "code",
   "execution_count": 3,
   "id": "8d49dc44",
   "metadata": {},
   "outputs": [],
   "source": [
    "from pyspark.sql import SparkSession"
   ]
  },
  {
   "cell_type": "code",
   "execution_count": 4,
   "id": "c0ec17a2",
   "metadata": {},
   "outputs": [],
   "source": [
    "spark=SparkSession.builder.appName(\"pyspark project\").getOrCreate()"
   ]
  },
  {
   "cell_type": "code",
   "execution_count": 17,
   "id": "ae489ba8",
   "metadata": {},
   "outputs": [],
   "source": [
    "walmartdf = spark.read.format(\"jdbc\") \\\n",
    " .option(\"url\", \"jdbc:mysql://localhost:3306/sparkproject\") \\\n",
    " .option(\"driver\",\"com.mysql.jdbc.Driver\") \\\n",
    " .option(\"dbtable\", \"walmartdata\") \\\n",
    " .option(\"user\", \"root\").option(\"password\", \"cloudera\") \\\n",
    " .load()"
   ]
  },
  {
   "cell_type": "code",
   "execution_count": 38,
   "id": "ef14cbde",
   "metadata": {},
   "outputs": [
    {
     "name": "stdout",
     "output_type": "stream",
     "text": [
      "+-------------------+-----+-----+-----+-----+--------+------------------+\n",
      "|               Date| Open| High|  Low|Close|  Volume|         Adj_Close|\n",
      "+-------------------+-----+-----+-----+-----+--------+------------------+\n",
      "|2012-01-03 00:00:00|59.97|61.06|59.87|60.33|12668800|52.619234999999996|\n",
      "|2012-01-04 00:00:00|60.21|60.35|59.47|59.71| 9593300|         52.078475|\n",
      "|2012-01-05 00:00:00|59.35|59.62|58.37|59.42|12768200|         51.825539|\n",
      "+-------------------+-----+-----+-----+-----+--------+------------------+\n",
      "only showing top 3 rows\n",
      "\n"
     ]
    }
   ],
   "source": [
    "walmartdf.show(3)"
   ]
  },
  {
   "cell_type": "code",
   "execution_count": 20,
   "id": "7d25bdc5",
   "metadata": {},
   "outputs": [],
   "source": [
    "walmartdf.createOrReplaceTempView(\"walmartdata\")"
   ]
  },
  {
   "cell_type": "markdown",
   "id": "c3fd5124",
   "metadata": {},
   "source": [
    "### 1.Create a new dataframe with a column called VH Ratio that is the ratio of the High Price versus  volume of stock traded for a day."
   ]
  },
  {
   "cell_type": "code",
   "execution_count": 22,
   "id": "ccd35191",
   "metadata": {},
   "outputs": [],
   "source": [
    "VHratio=spark.sql(\"select date, round(Volume/High,1) as VHratio from walmartdata\")"
   ]
  },
  {
   "cell_type": "code",
   "execution_count": 23,
   "id": "e3839cb7",
   "metadata": {},
   "outputs": [
    {
     "name": "stdout",
     "output_type": "stream",
     "text": [
      "+-------------------+--------+\n",
      "|               date| VHratio|\n",
      "+-------------------+--------+\n",
      "|2012-01-03 00:00:00|207481.2|\n",
      "|2012-01-04 00:00:00|158961.1|\n",
      "|2012-01-05 00:00:00|214159.7|\n",
      "+-------------------+--------+\n",
      "only showing top 3 rows\n",
      "\n"
     ]
    }
   ],
   "source": [
    "VHratio.show(3)"
   ]
  },
  {
   "cell_type": "markdown",
   "id": "fcb1b169",
   "metadata": {},
   "source": [
    "### Exporting output to mysql"
   ]
  },
  {
   "cell_type": "code",
   "execution_count": null,
   "id": "f8be7fdd",
   "metadata": {},
   "outputs": [],
   "source": [
    "HVratio.write.format(\"jdbc\") \\\n",
    "                    .option(\"driver\", \"com.mysql.cj.jdbc.Driver\") \\\n",
    "                    .option(\"url\", \"jdbc:mysql://localhost:3306/sparkproject\") \\\n",
    "                    .option(\"dbtable\",\"sol1\") \\\n",
    "                    .option(\"user\", \"root\").option(\"password\", \"cloudera\") \\\n",
    "                    .save()"
   ]
  },
  {
   "cell_type": "markdown",
   "id": "b13d3b2a",
   "metadata": {},
   "source": [
    "## 2.What day had the Peak High in Price?"
   ]
  },
  {
   "cell_type": "code",
   "execution_count": 24,
   "id": "4b1b9eff",
   "metadata": {},
   "outputs": [],
   "source": [
    "PeakHigh=spark.sql(\"select Date, High as Peak_High_price from walmartdata order by Peak_High_price desc limit 10\")"
   ]
  },
  {
   "cell_type": "code",
   "execution_count": 25,
   "id": "0c281bba",
   "metadata": {},
   "outputs": [
    {
     "name": "stdout",
     "output_type": "stream",
     "text": [
      "+-------------------+---------------+\n",
      "|               Date|Peak_High_price|\n",
      "+-------------------+---------------+\n",
      "|2015-01-13 00:00:00|          90.97|\n",
      "|2015-01-08 00:00:00|          90.67|\n",
      "|2015-01-09 00:00:00|          90.39|\n",
      "|2015-01-12 00:00:00|          90.31|\n",
      "|2015-01-23 00:00:00|          89.26|\n",
      "|2015-01-26 00:00:00|          89.16|\n",
      "|2015-01-07 00:00:00|          88.68|\n",
      "|2015-01-14 00:00:00|          88.52|\n",
      "|2015-01-27 00:00:00|          88.46|\n",
      "|2015-01-22 00:00:00|           88.4|\n",
      "+-------------------+---------------+\n",
      "\n"
     ]
    }
   ],
   "source": [
    "PeakHigh.show()"
   ]
  },
  {
   "cell_type": "code",
   "execution_count": null,
   "id": "b280193e",
   "metadata": {},
   "outputs": [],
   "source": [
    "PeakHigh.write.format(\"jdbc\") \\\n",
    "                    .option(\"driver\", \"com.mysql.cj.jdbc.Driver\") \\\n",
    "                    .option(\"url\", \"jdbc:mysql://localhost:3306/sparkproject\") \\\n",
    "                    .option(\"dbtable\",\"sol2\") \\\n",
    "                    .option(\"user\", \"root\").option(\"password\", \"cloudera\") \\\n",
    "                    .save()"
   ]
  },
  {
   "cell_type": "markdown",
   "id": "9668f0f0",
   "metadata": {},
   "source": [
    "## 3.What is the max and min of the Volume column?"
   ]
  },
  {
   "cell_type": "code",
   "execution_count": 26,
   "id": "c4435f2c",
   "metadata": {},
   "outputs": [],
   "source": [
    "MaxMinVolume=spark.sql(\"select max(volume) as MaxVolume, min(volume) as MinVolume from walmartdata\")"
   ]
  },
  {
   "cell_type": "code",
   "execution_count": 27,
   "id": "b2d45570",
   "metadata": {},
   "outputs": [
    {
     "name": "stdout",
     "output_type": "stream",
     "text": [
      "+---------+---------+\n",
      "|MaxVolume|MinVolume|\n",
      "+---------+---------+\n",
      "| 80898100|  2094900|\n",
      "+---------+---------+\n",
      "\n"
     ]
    }
   ],
   "source": [
    "MaxMinVolume.show()"
   ]
  },
  {
   "cell_type": "code",
   "execution_count": 57,
   "id": "1bb92308",
   "metadata": {},
   "outputs": [],
   "source": [
    "MaxMinVolume.write.format(\"jdbc\") \\\n",
    "                    .option(\"driver\", \"com.mysql.cj.jdbc.Driver\") \\\n",
    "                    .option(\"url\", \"jdbc:mysql://localhost:3306/sparkproject\") \\\n",
    "                    .option(\"dbtable\",\"sol3\") \\\n",
    "                    .option(\"user\", \"root\").option(\"password\", \"cloudera\") \\\n",
    "                    .save()"
   ]
  },
  {
   "cell_type": "markdown",
   "id": "0212348a",
   "metadata": {},
   "source": [
    "## 4.How many days was the Close lower than 60 dollars?"
   ]
  },
  {
   "cell_type": "code",
   "execution_count": 28,
   "id": "04c27397",
   "metadata": {},
   "outputs": [],
   "source": [
    "CloseLower=spark.sql(\"select date, close from walmartdata where close <=60\")"
   ]
  },
  {
   "cell_type": "code",
   "execution_count": 39,
   "id": "a3a021f3",
   "metadata": {},
   "outputs": [
    {
     "name": "stdout",
     "output_type": "stream",
     "text": [
      "+-------------------+-----+\n",
      "|               date|close|\n",
      "+-------------------+-----+\n",
      "|2012-01-04 00:00:00|59.71|\n",
      "|2012-01-05 00:00:00|59.42|\n",
      "|2012-01-06 00:00:00| 59.0|\n",
      "|2012-01-09 00:00:00|59.18|\n",
      "|2012-01-10 00:00:00|59.04|\n",
      "+-------------------+-----+\n",
      "only showing top 5 rows\n",
      "\n"
     ]
    }
   ],
   "source": [
    "CloseLower.show(5)"
   ]
  },
  {
   "cell_type": "code",
   "execution_count": null,
   "id": "41879510",
   "metadata": {},
   "outputs": [],
   "source": [
    "CloseLower.write.format(\"jdbc\") \\\n",
    "                    .option(\"driver\", \"com.mysql.cj.jdbc.Driver\") \\\n",
    "                    .option(\"url\", \"jdbc:mysql://localhost:3306/sparkproject\") \\\n",
    "                    .option(\"dbtable\",\"sol4\") \\\n",
    "                    .option(\"user\", \"root\").option(\"password\", \"cloudera\") \\\n",
    "                    .save()"
   ]
  },
  {
   "cell_type": "markdown",
   "id": "48604f21",
   "metadata": {},
   "source": [
    "### 5.What percentage of the time was the High greater than 80 dollars ?\n",
    "### In other words, (Number of Days High>80)/(Total Days in the dataset)"
   ]
  },
  {
   "cell_type": "code",
   "execution_count": 63,
   "id": "10e9b005",
   "metadata": {},
   "outputs": [],
   "source": [
    "High_greater=spark.sql(\"SELECT round(sum(if(high>80,1,0))*100/count(*),2) AS percentage FROM walmartdata\")"
   ]
  },
  {
   "cell_type": "code",
   "execution_count": 64,
   "id": "1a239e9a",
   "metadata": {},
   "outputs": [
    {
     "name": "stdout",
     "output_type": "stream",
     "text": [
      "+----------+\n",
      "|percentage|\n",
      "+----------+\n",
      "|      9.14|\n",
      "+----------+\n",
      "\n"
     ]
    }
   ],
   "source": [
    "High_greater.show()"
   ]
  },
  {
   "cell_type": "code",
   "execution_count": 66,
   "id": "2cc93dce",
   "metadata": {},
   "outputs": [],
   "source": [
    "solution5=High_greater.write.format(\"jdbc\") \\\n",
    "                    .option(\"driver\", \"com.mysql.cj.jdbc.Driver\") \\\n",
    "                    .option(\"url\", \"jdbc:mysql://localhost:3306/sparkproject\") \\\n",
    "                    .option(\"dbtable\",\"sol5\") \\\n",
    "                    .option(\"user\", \"root\").option(\"password\", \"cloudera\") \\\n",
    "                    .save()"
   ]
  },
  {
   "cell_type": "markdown",
   "id": "f32fce9d",
   "metadata": {},
   "source": [
    "### 6.What is the Pearson correlation between High and Volume?"
   ]
  },
  {
   "cell_type": "code",
   "execution_count": 49,
   "id": "d9e94652",
   "metadata": {},
   "outputs": [],
   "source": [
    "pearson_correlation = spark.sql(\"SELECT corr(high, volume) AS pearson_correlation FROM walmartdata\")"
   ]
  },
  {
   "cell_type": "code",
   "execution_count": 51,
   "id": "5a0ce0f4",
   "metadata": {},
   "outputs": [
    {
     "name": "stdout",
     "output_type": "stream",
     "text": [
      "+--------------------+\n",
      "| pearson_correlation|\n",
      "+--------------------+\n",
      "|-0.33843260582148915|\n",
      "+--------------------+\n",
      "\n"
     ]
    }
   ],
   "source": [
    "pearson_correlation.show()"
   ]
  },
  {
   "cell_type": "code",
   "execution_count": null,
   "id": "9009d53c",
   "metadata": {},
   "outputs": [],
   "source": [
    "pearson_correlation.write.format(\"jdbc\") \\\n",
    "                    .option(\"driver\", \"com.mysql.cj.jdbc.Driver\") \\\n",
    "                    .option(\"url\", \"jdbc:mysql://localhost:3306/sparkproject\") \\\n",
    "                    .option(\"dbtable\",\"sol6\") \\\n",
    "                    .option(\"user\", \"root\").option(\"password\", \"cloudera\") \\\n",
    "                    .save()"
   ]
  },
  {
   "cell_type": "markdown",
   "id": "89228b1e",
   "metadata": {},
   "source": [
    "### 7.What is the max High per year?"
   ]
  },
  {
   "cell_type": "code",
   "execution_count": 34,
   "id": "1d92b9b3",
   "metadata": {},
   "outputs": [
    {
     "name": "stdout",
     "output_type": "stream",
     "text": [
      "+----+-------------+\n",
      "|year|max_high_year|\n",
      "+----+-------------+\n",
      "|2015|        90.97|\n",
      "|2013|        81.37|\n",
      "|2014|        88.09|\n",
      "|2012|         77.6|\n",
      "|2016|        75.19|\n",
      "+----+-------------+\n",
      "\n"
     ]
    }
   ],
   "source": [
    "max_high=spark.sql(\"select year(date) as year, max(high) as max_high_year from walmartdata group by year\")\n",
    "max_high.show()"
   ]
  },
  {
   "cell_type": "code",
   "execution_count": null,
   "id": "9cdca4f6",
   "metadata": {},
   "outputs": [],
   "source": [
    "max_high.write.format(\"jdbc\") \\\n",
    "                    .option(\"driver\", \"com.mysql.cj.jdbc.Driver\") \\\n",
    "                    .option(\"url\", \"jdbc:mysql://localhost:3306/sparkproject\") \\\n",
    "                    .option(\"dbtable\",\"sol7\") \\\n",
    "                    .option(\"user\", \"root\").option(\"password\", \"cloudera\") \\\n",
    "                    .save()"
   ]
  },
  {
   "cell_type": "markdown",
   "id": "521ac2d5",
   "metadata": {},
   "source": [
    "### 8.What is the average Close for each Calendar Month?"
   ]
  },
  {
   "cell_type": "code",
   "execution_count": 36,
   "id": "f56a31b6",
   "metadata": {},
   "outputs": [],
   "source": [
    "average_close=spark.sql(\"select month(date) as month, avg(close) as average_close from walmartdata group by month order by month\")"
   ]
  },
  {
   "cell_type": "code",
   "execution_count": 37,
   "id": "0b4e734e",
   "metadata": {},
   "outputs": [
    {
     "name": "stdout",
     "output_type": "stream",
     "text": [
      "+-----+-----------------+\n",
      "|month|    average_close|\n",
      "+-----+-----------------+\n",
      "|    1|71.44801980198022|\n",
      "|    2|71.30680412371134|\n",
      "|    3|71.77794392523363|\n",
      "|    4|72.97361904761907|\n",
      "|    5|72.30971698113206|\n",
      "|    6|72.49537735849057|\n",
      "|    7|74.43971962616824|\n",
      "|    8|73.02981818181819|\n",
      "|    9|72.18411764705883|\n",
      "|   10|71.57854545454546|\n",
      "|   11|72.11108910891085|\n",
      "|   12|72.84792452830189|\n",
      "+-----+-----------------+\n",
      "\n"
     ]
    }
   ],
   "source": [
    "average_close.show()"
   ]
  },
  {
   "cell_type": "code",
   "execution_count": null,
   "id": "f5b3e0cd",
   "metadata": {},
   "outputs": [],
   "source": [
    "average_close.write.format(\"jdbc\") \\\n",
    "                    .option(\"driver\", \"com.mysql.cj.jdbc.Driver\") \\\n",
    "                    .option(\"url\", \"jdbc:mysql://localhost:3306/sparkproject\") \\\n",
    "                    .option(\"dbtable\",\"sol8\") \\\n",
    "                    .option(\"user\", \"root\").option(\"password\", \"cloudera\") \\\n",
    "                    .save()"
   ]
  },
  {
   "cell_type": "code",
   "execution_count": null,
   "id": "c2960088",
   "metadata": {},
   "outputs": [],
   "source": []
  },
  {
   "cell_type": "code",
   "execution_count": null,
   "id": "d190f7fa",
   "metadata": {},
   "outputs": [],
   "source": []
  },
  {
   "cell_type": "code",
   "execution_count": null,
   "id": "2076a890",
   "metadata": {},
   "outputs": [],
   "source": []
  },
  {
   "cell_type": "code",
   "execution_count": null,
   "id": "9948e894",
   "metadata": {},
   "outputs": [],
   "source": []
  },
  {
   "cell_type": "code",
   "execution_count": null,
   "id": "2efbf7f9",
   "metadata": {},
   "outputs": [],
   "source": []
  },
  {
   "cell_type": "code",
   "execution_count": null,
   "id": "4b647251",
   "metadata": {},
   "outputs": [],
   "source": []
  },
  {
   "cell_type": "code",
   "execution_count": null,
   "id": "91659cbb",
   "metadata": {},
   "outputs": [],
   "source": []
  },
  {
   "cell_type": "code",
   "execution_count": null,
   "id": "219adb3f",
   "metadata": {},
   "outputs": [],
   "source": []
  },
  {
   "cell_type": "code",
   "execution_count": null,
   "id": "d7e70784",
   "metadata": {},
   "outputs": [],
   "source": []
  },
  {
   "cell_type": "code",
   "execution_count": null,
   "id": "e37403a4",
   "metadata": {},
   "outputs": [],
   "source": []
  },
  {
   "cell_type": "code",
   "execution_count": null,
   "id": "fb205f2a",
   "metadata": {},
   "outputs": [],
   "source": []
  },
  {
   "cell_type": "code",
   "execution_count": null,
   "id": "56fad5ef",
   "metadata": {},
   "outputs": [],
   "source": []
  }
 ],
 "metadata": {
  "kernelspec": {
   "display_name": "Python 3 (ipykernel)",
   "language": "python",
   "name": "python3"
  },
  "language_info": {
   "codemirror_mode": {
    "name": "ipython",
    "version": 3
   },
   "file_extension": ".py",
   "mimetype": "text/x-python",
   "name": "python",
   "nbconvert_exporter": "python",
   "pygments_lexer": "ipython3",
   "version": "3.10.7"
  }
 },
 "nbformat": 4,
 "nbformat_minor": 5
}
